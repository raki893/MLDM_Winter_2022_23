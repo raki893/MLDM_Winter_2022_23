{
 "cells": [
  {
   "cell_type": "code",
   "execution_count": 1,
   "id": "05952a86",
   "metadata": {},
   "outputs": [
    {
     "name": "stdout",
     "output_type": "stream",
     "text": [
      "fμ1,σ1(144657) = 5.401815391655925e-06\n",
      "fμ2,σ2(144657) = 2.168538824144659e-05\n",
      "fμ3,σ3(144657) = 2.1346801692390267e-05\n",
      "z3,1 = 0.1115293966574499\n",
      "z3,2 = 0.4477306408114196\n",
      "z3,3 = 0.4407399625311306\n"
     ]
    }
   ],
   "source": [
    "import numpy as np\n",
    "from scipy.stats import norm\n",
    "\n",
    "# Given dataset\n",
    "data = np.array([\n",
    "    [157434, 0],\n",
    "    [261952, 2],\n",
    "    [144657, 0],\n",
    "    [118777, 1],\n",
    "    [147511, 1],\n",
    "    [163025, 2],\n",
    "    [120131, 0],\n",
    "    [162745, 0],\n",
    "    [155569, 1]\n",
    "])\n",
    "\n",
    "# Initialize parameters\n",
    "mu = np.array([188014.34, 143104.34, 146148.34])\n",
    "sigma = np.array([52541.39, 18330.95, 18628.83])\n",
    "weights = np.zeros((9, 3))\n",
    "\n",
    "# Calculate likelihoods for each cluster at x=162745\n",
    "x = 144657\n",
    "likelihoods = norm.pdf(x, loc=mu, scale=sigma)\n",
    "f1 = likelihoods[0]\n",
    "f2 = likelihoods[1]\n",
    "f3 = likelihoods[2]\n",
    "print(\"fμ1,σ1(144657) =\", f1)\n",
    "print(\"fμ2,σ2(144657) =\", f2)\n",
    "print(\"fμ3,σ3(144657) =\", f3)\n",
    "\n",
    "# Calculate weights for the 3rd data point\n",
    "pdf = np.vstack([norm.pdf(data[:, 0], loc=mu[j], scale=sigma[j]) for j in range(3)]).T\n",
    "gamma = np.vstack([pdf[i] / np.sum(pdf[i]) for i in range(9)])\n",
    "weights[2, :] = gamma[2, :]\n",
    "z1 = weights[2, 0]\n",
    "z2 = weights[2, 1]\n",
    "z3 = weights[2, 2]\n",
    "print(\"z3,1 =\", z1)\n",
    "print(\"z3,2 =\", z2)\n",
    "print(\"z3,3 =\", z3)\n"
   ]
  },
  {
   "cell_type": "code",
   "execution_count": null,
   "id": "0626d42f",
   "metadata": {},
   "outputs": [],
   "source": []
  }
 ],
 "metadata": {
  "kernelspec": {
   "display_name": "Python 3",
   "language": "python",
   "name": "python3"
  },
  "language_info": {
   "codemirror_mode": {
    "name": "ipython",
    "version": 3
   },
   "file_extension": ".py",
   "mimetype": "text/x-python",
   "name": "python",
   "nbconvert_exporter": "python",
   "pygments_lexer": "ipython3",
   "version": "3.8.8"
  }
 },
 "nbformat": 4,
 "nbformat_minor": 5
}
