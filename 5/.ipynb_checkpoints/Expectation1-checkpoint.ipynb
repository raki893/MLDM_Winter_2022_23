{
 "cells": [
  {
   "cell_type": "code",
   "execution_count": 19,
   "id": "3c8f3911-56f7-469c-884e-b19bd90cb942",
   "metadata": {},
   "outputs": [
    {
     "data": {
      "text/html": [
       "<div>\n",
       "<style scoped>\n",
       "    .dataframe tbody tr th:only-of-type {\n",
       "        vertical-align: middle;\n",
       "    }\n",
       "\n",
       "    .dataframe tbody tr th {\n",
       "        vertical-align: top;\n",
       "    }\n",
       "\n",
       "    .dataframe thead th {\n",
       "        text-align: right;\n",
       "    }\n",
       "</style>\n",
       "<table border=\"1\" class=\"dataframe\">\n",
       "  <thead>\n",
       "    <tr style=\"text-align: right;\">\n",
       "      <th></th>\n",
       "      <th>Income</th>\n",
       "      <th>Education</th>\n",
       "    </tr>\n",
       "  </thead>\n",
       "  <tbody>\n",
       "    <tr>\n",
       "      <th>0</th>\n",
       "      <td>157434</td>\n",
       "      <td>0</td>\n",
       "    </tr>\n",
       "    <tr>\n",
       "      <th>1</th>\n",
       "      <td>261952</td>\n",
       "      <td>2</td>\n",
       "    </tr>\n",
       "    <tr>\n",
       "      <th>2</th>\n",
       "      <td>144657</td>\n",
       "      <td>0</td>\n",
       "    </tr>\n",
       "    <tr>\n",
       "      <th>3</th>\n",
       "      <td>118777</td>\n",
       "      <td>1</td>\n",
       "    </tr>\n",
       "    <tr>\n",
       "      <th>4</th>\n",
       "      <td>147511</td>\n",
       "      <td>1</td>\n",
       "    </tr>\n",
       "    <tr>\n",
       "      <th>5</th>\n",
       "      <td>163025</td>\n",
       "      <td>2</td>\n",
       "    </tr>\n",
       "    <tr>\n",
       "      <th>6</th>\n",
       "      <td>120131</td>\n",
       "      <td>0</td>\n",
       "    </tr>\n",
       "    <tr>\n",
       "      <th>7</th>\n",
       "      <td>162745</td>\n",
       "      <td>0</td>\n",
       "    </tr>\n",
       "    <tr>\n",
       "      <th>8</th>\n",
       "      <td>155569</td>\n",
       "      <td>1</td>\n",
       "    </tr>\n",
       "  </tbody>\n",
       "</table>\n",
       "</div>"
      ],
      "text/plain": [
       "   Income  Education\n",
       "0  157434          0\n",
       "1  261952          2\n",
       "2  144657          0\n",
       "3  118777          1\n",
       "4  147511          1\n",
       "5  163025          2\n",
       "6  120131          0\n",
       "7  162745          0\n",
       "8  155569          1"
      ]
     },
     "execution_count": 19,
     "metadata": {},
     "output_type": "execute_result"
    }
   ],
   "source": [
    "import pandas as pd\n",
    "\n",
    "\n",
    "Table = pd.DataFrame({\n",
    "    'Income': [157434, 261952, 144657, 118777, 147511, 163025, 120131, 162745, 155569],\n",
    "    'Education': [0, 2, 0, 1, 1, 2, 0, 0, 1]\n",
    "})\n",
    "\n",
    "Table"
   ]
  },
  {
   "cell_type": "code",
   "execution_count": 33,
   "id": "865b00c2-1547-46cd-8564-7c11607b6eeb",
   "metadata": {},
   "outputs": [
    {
     "name": "stdout",
     "output_type": "stream",
     "text": [
      "Mean of the sample is 146241.75 \n",
      "Standard Deviation of the sample is 18990.404759158417 \n"
     ]
    }
   ],
   "source": [
    "import statistics\n",
    "\n",
    "Income_E_2 = [157434, 144657, 120131, 162745]\n",
    "\n",
    "statistics.mean(Income_E_2)\n",
    "\n",
    "print(\"Mean of the sample is % s \" %(statistics.mean(Income_E_2))) \n",
    "print(\"Standard Deviation of the sample is % s \"%(statistics.stdev(Income_E_2)))"
   ]
  },
  {
   "cell_type": "code",
   "execution_count": 35,
   "id": "6f9ed907-bc08-4deb-ad46-b22d02f466ef",
   "metadata": {},
   "outputs": [
    {
     "name": "stdout",
     "output_type": "stream",
     "text": [
      "Standard Deviation of the sample is 49463.5 \n",
      "Mean of the sample is 212488.5 \n"
     ]
    }
   ],
   "source": [
    "import numpy as np #for declaring an array\n",
    " \n",
    "def mean(data):\n",
    "  n = len(data)\n",
    "  mean = sum(data) / n\n",
    "  return mean\n",
    " \n",
    "def variance(data):\n",
    "  n = len(data)\n",
    "  mean = sum(data) / n\n",
    "  deviations = [(x - mean) ** 2 for x in data]\n",
    "  variance = sum(deviations) / n\n",
    "  return variance\n",
    " \n",
    "def stdev(data):\n",
    "  import math\n",
    "  var = variance(data)\n",
    "  std_dev = math.sqrt(var)\n",
    "  return std_dev\n",
    " \n",
    "data = np.array([261952,163025])\n",
    " \n",
    "print(\"Standard Deviation of the sample is % s \"% (stdev(data)))\n",
    "print(\"Mean of the sample is % s \" % (mean(data))) "
   ]
  },
  {
   "cell_type": "code",
   "execution_count": 4,
   "id": "09639307-2244-4c61-a76f-263d8803df0e",
   "metadata": {},
   "outputs": [],
   "source": [
    "import math\n",
    "from math import sqrt, pi, e"
   ]
  },
  {
   "cell_type": "code",
   "execution_count": 3,
   "id": "238cdd9a-050a-47db-b3a1-7710cf6d769a",
   "metadata": {},
   "outputs": [],
   "source": [
    "def gauss_distr(mu, sigmaSquare, x):\n",
    "    return (1 / sqrt(2 * pi * sigmaSquare)) * e ** ((-0.5) * (x - mu) ** 2 / sigmaSquare)"
   ]
  },
  {
   "cell_type": "code",
   "execution_count": 8,
   "id": "a6c91fda-a886-421c-be6a-4ced97d150e2",
   "metadata": {},
   "outputs": [
    {
     "data": {
      "text/plain": [
       "6.763652779492298e-06"
      ]
     },
     "execution_count": 8,
     "metadata": {},
     "output_type": "execute_result"
    }
   ],
   "source": [
    "sigma1 = 52541.39 \n",
    "mu1 = 188014.34\n",
    "x1 = 162745\n",
    "sigmaSquare1 = pow(sigma1, 2)\n",
    "\n",
    "f_x_mu1_sigma1 = gauss_distr(mu1, sigmaSquare1, x1)\n",
    "\n",
    "f_x_mu1_sigma1"
   ]
  },
  {
   "cell_type": "code",
   "execution_count": 10,
   "id": "bfbd157c-b68d-4046-8fa3-6951a7f42c9e",
   "metadata": {},
   "outputs": [
    {
     "data": {
      "text/plain": [
       "1.2258571819924825e-05"
      ]
     },
     "execution_count": 10,
     "metadata": {},
     "output_type": "execute_result"
    }
   ],
   "source": [
    "sigma2 = 18330.95  \n",
    "mu2 = 143104.34\n",
    "x2 = 162745\n",
    "sigmaSquare2 = pow(sigma2, 2)\n",
    "\n",
    "f_x_mu2_sigma2 = gauss_distr(mu2, sigmaSquare2, x2)\n",
    "\n",
    "f_x_mu2_sigma2"
   ]
  },
  {
   "cell_type": "code",
   "execution_count": 12,
   "id": "0120935b-dd07-4b23-8774-54ad8140dc09",
   "metadata": {},
   "outputs": [
    {
     "data": {
      "text/plain": [
       "1.4400223172210647e-05"
      ]
     },
     "execution_count": 12,
     "metadata": {},
     "output_type": "execute_result"
    }
   ],
   "source": [
    "sigma3 = 18628.83  \n",
    "mu3 = 146148.34\n",
    "x3 = 162745\n",
    "sigmaSquare3 = pow(sigma3, 2)\n",
    "\n",
    "f_x_mu3_sigma3 = gauss_distr(mu3, sigmaSquare3, x3)\n",
    "\n",
    "f_x_mu3_sigma3"
   ]
  },
  {
   "cell_type": "code",
   "execution_count": 39,
   "id": "db54e2ae-def4-4b88-ae61-21e928d5d04b",
   "metadata": {},
   "outputs": [
    {
     "data": {
      "text/plain": [
       "0.20236856455600313"
      ]
     },
     "execution_count": 39,
     "metadata": {},
     "output_type": "execute_result"
    }
   ],
   "source": [
    "Z6_1 = f_x_mu1_sigma1 /( f_x_mu1_sigma1 + f_x_mu2_sigma2+f_x_mu3_sigma3)\n",
    "Z6_1 "
   ]
  },
  {
   "cell_type": "code",
   "execution_count": 40,
   "id": "7595dad5-5de4-4756-a7c8-fd24f8e3c691",
   "metadata": {},
   "outputs": [
    {
     "data": {
      "text/plain": [
       "0.36677660187208355"
      ]
     },
     "execution_count": 40,
     "metadata": {},
     "output_type": "execute_result"
    }
   ],
   "source": [
    "Z6_2 = f_x_mu2_sigma2/(f_x_mu2_sigma2+f_x_mu1_sigma1+f_x_mu3_sigma3)\n",
    "Z6_2 "
   ]
  },
  {
   "cell_type": "code",
   "execution_count": 41,
   "id": "3c03899d-c5e2-451d-9dd6-fa4af9dc09e1",
   "metadata": {},
   "outputs": [
    {
     "data": {
      "text/plain": [
       "0.43085483357191334"
      ]
     },
     "execution_count": 41,
     "metadata": {},
     "output_type": "execute_result"
    }
   ],
   "source": [
    "Z6_3 = f_x_mu3_sigma3/(f_x_mu3_sigma3+f_x_mu1_sigma1+f_x_mu2_sigma2)\n",
    "Z6_3"
   ]
  },
  {
   "cell_type": "markdown",
   "id": "742d8148",
   "metadata": {},
   "source": [
    "using chatgpt"
   ]
  },
  {
   "cell_type": "code",
   "execution_count": 1,
   "id": "fb60df9d",
   "metadata": {},
   "outputs": [
    {
     "name": "stdout",
     "output_type": "stream",
     "text": [
      "fμ1,σ1(162745) = 6.763652779492299e-06\n",
      "fμ2,σ2(162745) = 1.2258571819924825e-05\n",
      "fμ3,σ3(162745) = 1.4400223172210647e-05\n",
      "z6,1 = 0.20519521745002928\n",
      "z6,2 = 0.3648887899464584\n",
      "z6,3 = 0.42991599260351243\n"
     ]
    }
   ],
   "source": [
    "import numpy as np\n",
    "from scipy.stats import norm\n",
    "\n",
    "# Given dataset\n",
    "data = np.array([\n",
    "    [157434, 0],\n",
    "    [261952, 2],\n",
    "    [144657, 0],\n",
    "    [118777, 1],\n",
    "    [147511, 1],\n",
    "    [163025, 2],\n",
    "    [120131, 0],\n",
    "    [162745, 0],\n",
    "    [155569, 1]\n",
    "])\n",
    "\n",
    "# Initialize parameters\n",
    "mu = np.array([188014.34, 143104.34, 146148.34])\n",
    "sigma = np.array([52541.39, 18330.95, 18628.83])\n",
    "weights = np.zeros((9, 3))\n",
    "\n",
    "# Calculate likelihoods for each cluster at x=162745\n",
    "x = 162745\n",
    "likelihoods = norm.pdf(x, loc=mu, scale=sigma)\n",
    "f1 = likelihoods[0]\n",
    "f2 = likelihoods[1]\n",
    "f3 = likelihoods[2]\n",
    "print(\"fμ1,σ1(162745) =\", f1)\n",
    "print(\"fμ2,σ2(162745) =\", f2)\n",
    "print(\"fμ3,σ3(162745) =\", f3)\n",
    "\n",
    "# Calculate weights for the 6th data point\n",
    "pdf = np.vstack([norm.pdf(data[:, 0], loc=mu[j], scale=sigma[j]) for j in range(3)]).T\n",
    "gamma = np.vstack([pdf[i] / np.sum(pdf[i]) for i in range(9)])\n",
    "weights[5, :] = gamma[5, :]\n",
    "z1 = weights[5, 0]\n",
    "z2 = weights[5, 1]\n",
    "z3 = weights[5, 2]\n",
    "print(\"z6,1 =\", z1)\n",
    "print(\"z6,2 =\", z2)\n",
    "print(\"z6,3 =\", z3)\n"
   ]
  },
  {
   "cell_type": "code",
   "execution_count": null,
   "id": "7e8582bf",
   "metadata": {},
   "outputs": [],
   "source": []
  }
 ],
 "metadata": {
  "kernelspec": {
   "display_name": "Python 3",
   "language": "python",
   "name": "python3"
  },
  "language_info": {
   "codemirror_mode": {
    "name": "ipython",
    "version": 3
   },
   "file_extension": ".py",
   "mimetype": "text/x-python",
   "name": "python",
   "nbconvert_exporter": "python",
   "pygments_lexer": "ipython3",
   "version": "3.8.8"
  }
 },
 "nbformat": 4,
 "nbformat_minor": 5
}
