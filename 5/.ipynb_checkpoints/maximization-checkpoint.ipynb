{
 "cells": [
  {
   "cell_type": "code",
   "execution_count": 2,
   "id": "5ca28678",
   "metadata": {},
   "outputs": [
    {
     "name": "stdout",
     "output_type": "stream",
     "text": [
      "Weights: [0.25130851 0.37257573 0.37611576]\n",
      "New model parameters:\n",
      "mu1: 198013.17153968776 sigma1: 58353.87229322074\n",
      "mu2: 144869.17006797993 sigma2: 16836.063219073785\n",
      "mu3: 147167.10635826318 sigma3: 16047.678609472288\n"
     ]
    }
   ],
   "source": [
    "import numpy as np\n",
    "\n",
    "# Define the data\n",
    "data = np.array([\n",
    "    [157434, 0],\n",
    "    [261952, 2],\n",
    "    [144657, 0],\n",
    "    [118777, 1],\n",
    "    [147511, 1],\n",
    "    [163025, 2],\n",
    "    [120131, 0],\n",
    "    [162745, 0],\n",
    "    [155569, 1]\n",
    "])\n",
    "\n",
    "# Define the current model parameters\n",
    "mu = np.array([188014.34, 143104.34, 146148.34])\n",
    "sigma = np.array([52541.39, 18330.95, 18628.83])\n",
    "\n",
    "# Calculate the responsibilities\n",
    "def calculate_responsibilities(data, mu, sigma):\n",
    "    responsibilities = np.zeros((len(data), len(mu)))\n",
    "    for i in range(len(data)):\n",
    "        for j in range(len(mu)):\n",
    "            responsibilities[i, j] = np.exp(-((data[i, 0] - mu[j])**2) / (2 * sigma[j]**2)) / (np.sqrt(2 * np.pi) * sigma[j])\n",
    "        responsibilities[i, :] /= np.sum(responsibilities[i, :])\n",
    "    return responsibilities\n",
    "\n",
    "responsibilities = calculate_responsibilities(data, mu, sigma)\n",
    "\n",
    "# Calculate the weights for all data points\n",
    "weights = np.sum(responsibilities, axis=0) / len(data)\n",
    "\n",
    "# Update the model parameters\n",
    "for j in range(len(mu)):\n",
    "    mu[j] = np.sum(responsibilities[:, j] * data[:, 0]) / np.sum(responsibilities[:, j])\n",
    "    sigma[j] = np.sqrt(np.sum(responsibilities[:, j] * (data[:, 0] - mu[j])**2) / np.sum(responsibilities[:, j]))\n",
    "\n",
    "# Print the results\n",
    "print(\"Weights:\", weights)\n",
    "print(\"New model parameters:\")\n",
    "print(\"mu1:\", mu[0], \"sigma1:\", sigma[0])\n",
    "print(\"mu2:\", mu[1], \"sigma2:\", sigma[1])\n",
    "print(\"mu3:\", mu[2], \"sigma3:\", sigma[2])\n"
   ]
  },
  {
   "cell_type": "code",
   "execution_count": null,
   "id": "81d11dcd",
   "metadata": {},
   "outputs": [],
   "source": []
  }
 ],
 "metadata": {
  "kernelspec": {
   "display_name": "Python 3",
   "language": "python",
   "name": "python3"
  },
  "language_info": {
   "codemirror_mode": {
    "name": "ipython",
    "version": 3
   },
   "file_extension": ".py",
   "mimetype": "text/x-python",
   "name": "python",
   "nbconvert_exporter": "python",
   "pygments_lexer": "ipython3",
   "version": "3.8.8"
  }
 },
 "nbformat": 4,
 "nbformat_minor": 5
}
