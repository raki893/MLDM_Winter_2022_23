{
 "cells": [
  {
   "cell_type": "code",
   "execution_count": 9,
   "id": "23d55350",
   "metadata": {},
   "outputs": [
    {
     "data": {
      "text/plain": [
       "1.331784130819095"
      ]
     },
     "execution_count": 9,
     "metadata": {},
     "output_type": "execute_result"
    }
   ],
   "source": [
    "import numpy as np\n",
    "\n",
    "def eqd(a,b):\n",
    "    return np.linalg.norm(a-b)\n",
    "\n",
    "o10 = np.array([2.5,2])\n",
    "o11 = np.array([3.5,3])\n",
    "o12 = np.array([2.5,3])\n",
    "o13 = np.array([1,2.5])\n",
    "\n",
    "a_i = (1/3)*(eqd(o10,o11)+eqd(o10,o12)+eqd(o10,o13))\n",
    "\n",
    "a_i"
   ]
  },
  {
   "cell_type": "code",
   "execution_count": 10,
   "id": "0acc7bad-2ac2-4550-94f1-d513209324ba",
   "metadata": {},
   "outputs": [
    {
     "name": "stdout",
     "output_type": "stream",
     "text": [
      "3.617643832277857 1.7378831875909628\n"
     ]
    }
   ],
   "source": [
    "c2_1 = np.array([5.5,3.5])\n",
    "c2_2 = np.array([6.4,4])\n",
    "c2_3 = np.array([5.5,4.5])\n",
    "c2_4 = np.array([4.5,4])\n",
    "\n",
    "c3_1 = np.array([3.5, 1])\n",
    "c3_2 = np.array([4.5, 1.5])\n",
    "\n",
    "\n",
    "d_1 = (1/4) * (eqd(o10, c2_1) + eqd(o10, c2_2) + eqd(o10, c2_3) + eqd(o10, c2_4) )\n",
    "d_2 = (1/2) * (eqd(o10, c3_1) + eqd(o10, c3_2) )\n",
    "\n",
    "print(d_1, d_2)\n",
    "\n",
    "b_i = d_2"
   ]
  },
  {
   "cell_type": "code",
   "execution_count": 11,
   "id": "58f44294-d653-4a66-8240-f963763f197b",
   "metadata": {},
   "outputs": [
    {
     "data": {
      "text/plain": [
       "1.7378831875909628"
      ]
     },
     "execution_count": 11,
     "metadata": {},
     "output_type": "execute_result"
    }
   ],
   "source": [
    "b_i"
   ]
  },
  {
   "cell_type": "code",
   "execution_count": 12,
   "id": "27d4809b-bbc9-4f32-b107-ae16a89a4c5e",
   "metadata": {},
   "outputs": [
    {
     "data": {
      "text/plain": [
       "0.2336745413452089"
      ]
     },
     "execution_count": 12,
     "metadata": {},
     "output_type": "execute_result"
    }
   ],
   "source": [
    "Silhouette = (b_i - a_i)/b_i\n",
    "Silhouette"
   ]
  }
 ],
 "metadata": {
  "kernelspec": {
   "display_name": "Python 3",
   "language": "python",
   "name": "python3"
  },
  "language_info": {
   "codemirror_mode": {
    "name": "ipython",
    "version": 3
   },
   "file_extension": ".py",
   "mimetype": "text/x-python",
   "name": "python",
   "nbconvert_exporter": "python",
   "pygments_lexer": "ipython3",
   "version": "3.8.8"
  }
 },
 "nbformat": 4,
 "nbformat_minor": 5
}
