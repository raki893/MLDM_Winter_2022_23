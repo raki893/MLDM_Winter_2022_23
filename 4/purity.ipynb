{
 "cells": [
  {
   "cell_type": "code",
   "execution_count": 1,
   "id": "f83b2f20",
   "metadata": {},
   "outputs": [
    {
     "name": "stdout",
     "output_type": "stream",
     "text": [
      "Purity: 2.6666666666666665\n"
     ]
    }
   ],
   "source": [
    "from collections import Counter\n",
    "\n",
    "# Define the true labels for each cluster\n",
    "true_labels = [0, 1, 2]\n",
    "\n",
    "# Define the predicted labels for each cluster\n",
    "predicted_labels = [[0, 0, 0, 0], [1, 1, 1, 0], [0, 1]]\n",
    "\n",
    "# Define the objects with coordinates for each cluster\n",
    "c1 = [(1, 2.5), (2.5, 2), (2.5, 3), (3.5, 3)]\n",
    "c2 = [(4.5, 4), (5.5, 4.5), (6.5, 4), (5.5, 3.5)]\n",
    "c3 = [(3.5, 1), (4.5, 1.5)]\n",
    "\n",
    "purity = 0\n",
    "for i in range(len(predicted_labels)):\n",
    "    cluster_labels = predicted_labels[i]\n",
    "    cluster_counter = Counter(cluster_labels)\n",
    "    majority_label = cluster_counter.most_common()[0][0]\n",
    "    \n",
    "    correct_predictions = 0\n",
    "    for j in range(len(cluster_labels)):\n",
    "        if cluster_labels[j] == majority_label:\n",
    "            if i == 0 and c1[j] in c1:\n",
    "                correct_predictions += 1\n",
    "            elif i == 1 and c2[j] in c2:\n",
    "                correct_predictions += 1\n",
    "            elif i == 2 and c3[j] in c3:\n",
    "                correct_predictions += 1\n",
    "    \n",
    "    purity += correct_predictions\n",
    "\n",
    "purity /= len(predicted_labels)\n",
    "print(f\"Purity: {purity}\")"
   ]
  },
  {
   "cell_type": "code",
   "execution_count": null,
   "id": "69832868",
   "metadata": {},
   "outputs": [],
   "source": []
  }
 ],
 "metadata": {
  "kernelspec": {
   "display_name": "Python 3",
   "language": "python",
   "name": "python3"
  },
  "language_info": {
   "codemirror_mode": {
    "name": "ipython",
    "version": 3
   },
   "file_extension": ".py",
   "mimetype": "text/x-python",
   "name": "python",
   "nbconvert_exporter": "python",
   "pygments_lexer": "ipython3",
   "version": "3.8.8"
  }
 },
 "nbformat": 4,
 "nbformat_minor": 5
}
