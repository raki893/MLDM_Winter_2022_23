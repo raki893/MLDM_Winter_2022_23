{
 "cells": [
  {
   "cell_type": "code",
   "execution_count": 26,
   "id": "0acc7bad-2ac2-4550-94f1-d513209324ba",
   "metadata": {},
   "outputs": [
    {
     "data": {
      "text/plain": [
       "1.0786893258332633"
      ]
     },
     "execution_count": 26,
     "metadata": {},
     "output_type": "execute_result"
    }
   ],
   "source": [
    "import numpy as np\n",
    "\n",
    "def eqd(a,b):\n",
    "    return np.linalg.norm(a-b)\n",
    "\n",
    "o1 = np.array([5.5, 3.5])\n",
    "o2 = np.array([6.5, 4])\n",
    "o3 = np.array([5.5, 4.5])\n",
    "o4 = np.array([4.5, 4])\n",
    "\n",
    "a_i = (1/3)*(eqd(o1,o2)+eqd(o1,o3)+eqd(o1,o4))\n",
    "\n",
    "a_i"
   ]
  },
  {
   "cell_type": "code",
   "execution_count": 27,
   "id": "4529c731-d380-4789-af84-9505e3047d2b",
   "metadata": {},
   "outputs": [
    {
     "name": "stdout",
     "output_type": "stream",
     "text": [
      "3.266702068213517 2.718815048108107\n"
     ]
    }
   ],
   "source": [
    "c1_1 = np.array([1, 2.5])\n",
    "c1_2 = np.array([2.5, 3])\n",
    "c1_3 = np.array([3.5, 3])\n",
    "c1_4 = np.array([2.5, 2])\n",
    "\n",
    "c3_1 = np.array([3.5, 1])\n",
    "c3_2 = np.array([4.5, 1.5])\n",
    "\n",
    "\n",
    "d_1 = (1/4) * (eqd(o1, c1_1) + eqd(o1, c1_2) + eqd(o1, c1_3) + eqd(o1, c1_4) )\n",
    "d_2 = (1/2) * (eqd(o1, c3_1) + eqd(o1, c3_2) )\n",
    "\n",
    "print(d_1, d_2)\n",
    "\n",
    "b_i = d_2"
   ]
  },
  {
   "cell_type": "code",
   "execution_count": 28,
   "id": "58f44294-d653-4a66-8240-f963763f197b",
   "metadata": {},
   "outputs": [
    {
     "data": {
      "text/plain": [
       "2.718815048108107"
      ]
     },
     "execution_count": 28,
     "metadata": {},
     "output_type": "execute_result"
    }
   ],
   "source": [
    "b_i"
   ]
  },
  {
   "cell_type": "code",
   "execution_count": 29,
   "id": "27d4809b-bbc9-4f32-b107-ae16a89a4c5e",
   "metadata": {},
   "outputs": [
    {
     "data": {
      "text/plain": [
       "0.603250200272405"
      ]
     },
     "execution_count": 29,
     "metadata": {},
     "output_type": "execute_result"
    }
   ],
   "source": [
    "Silhouette = (b_i - a_i)/b_i\n",
    "Silhouette"
   ]
  },
  {
   "cell_type": "code",
   "execution_count": null,
   "id": "49f0b2bf",
   "metadata": {},
   "outputs": [],
   "source": []
  }
 ],
 "metadata": {
  "kernelspec": {
   "display_name": "Python 3",
   "language": "python",
   "name": "python3"
  },
  "language_info": {
   "codemirror_mode": {
    "name": "ipython",
    "version": 3
   },
   "file_extension": ".py",
   "mimetype": "text/x-python",
   "name": "python",
   "nbconvert_exporter": "python",
   "pygments_lexer": "ipython3",
   "version": "3.8.8"
  }
 },
 "nbformat": 4,
 "nbformat_minor": 5
}
