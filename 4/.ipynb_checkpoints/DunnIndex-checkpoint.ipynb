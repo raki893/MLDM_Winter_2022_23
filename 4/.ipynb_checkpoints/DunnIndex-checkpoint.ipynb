{
 "cells": [
  {
   "cell_type": "code",
   "execution_count": 9,
   "id": "b6970162",
   "metadata": {},
   "outputs": [
    {
     "name": "stdout",
     "output_type": "stream",
     "text": [
      "Dunn index: 0.5547001962252291\n"
     ]
    }
   ],
   "source": [
    "import numpy as np\n",
    "from sklearn.metrics import pairwise_distances\n",
    "\n",
    "\n",
    "def dunn_index(clusters):\n",
    "    # Calculate diameters of each cluster\n",
    "    diameters = np.zeros(len(clusters))\n",
    "    for i, cluster in enumerate(clusters):\n",
    "        if len(cluster) > 0:\n",
    "            diameters[i] = np.max(pairwise_distances(cluster))\n",
    "            \n",
    "    # Calculate minimum distance between clusters\n",
    "    distances = np.zeros((len(clusters), len(clusters)))\n",
    "    for i in range(len(clusters)):\n",
    "        for j in range(len(clusters)):\n",
    "            if i < j:\n",
    "                if len(clusters[i]) > 0 and len(clusters[j]) > 0:\n",
    "                    distances[i, j] = np.min(pairwise_distances(clusters[i], clusters[j]))\n",
    "    \n",
    "    # Compute Dunn index\n",
    "    min_distance = np.min(distances[distances > 0])\n",
    "    max_diameter = np.max(diameters)\n",
    "    return min_distance / max_diameter\n",
    "\n",
    "\n",
    "# Test the function with the given three clusters\n",
    "c1 = np.array([[1, 2.5], [2.5, 2], [2.5, 3], [3.5, 3]])\n",
    "c2 = np.array([[4.5, 4], [5.5, 4.5], [6.5, 4], [5.5, 3.5]])\n",
    "c3 = np.array([[3.5, 1], [4.5, 1.5]])\n",
    "clusters = [c1, c2, c3]\n",
    "\n",
    "# Calculate Dunn index\n",
    "dunn = dunn_index(clusters)\n",
    "print(\"Dunn index:\", dunn)\n"
   ]
  },
  {
   "cell_type": "markdown",
   "id": "0a02cfea",
   "metadata": {},
   "source": [
    "another approach"
   ]
  },
  {
   "cell_type": "code",
   "execution_count": 10,
   "id": "4d2bd0a6",
   "metadata": {},
   "outputs": [
    {
     "data": {
      "text/plain": [
       "0.5547001962252291"
      ]
     },
     "execution_count": 10,
     "metadata": {},
     "output_type": "execute_result"
    }
   ],
   "source": [
    "import numpy as np\n",
    "\n",
    "\n",
    "a = np.array([3.5, 3])\n",
    "b = np.array([4.5, 4])\n",
    "c = np.array([1, 2.5])\n",
    "\n",
    "def eqd(a,b):\n",
    "    return np.linalg.norm(a-b)\n",
    "\n",
    "dunn = eqd(a,b)/eqd(a,c)\n",
    "\n",
    "dunn"
   ]
  },
  {
   "cell_type": "code",
   "execution_count": null,
   "id": "fd53998b",
   "metadata": {},
   "outputs": [],
   "source": []
  }
 ],
 "metadata": {
  "kernelspec": {
   "display_name": "Python 3",
   "language": "python",
   "name": "python3"
  },
  "language_info": {
   "codemirror_mode": {
    "name": "ipython",
    "version": 3
   },
   "file_extension": ".py",
   "mimetype": "text/x-python",
   "name": "python",
   "nbconvert_exporter": "python",
   "pygments_lexer": "ipython3",
   "version": "3.8.8"
  }
 },
 "nbformat": 4,
 "nbformat_minor": 5
}
