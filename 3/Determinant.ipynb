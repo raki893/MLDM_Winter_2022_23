{
 "cells": [
  {
   "cell_type": "code",
   "execution_count": 1,
   "id": "04a98e82-6052-49a6-b0ea-ecf05af3c4c6",
   "metadata": {},
   "outputs": [
    {
     "name": "stdout",
     "output_type": "stream",
     "text": [
      "Numpy Matrix is:\n",
      "[[19 56 78]\n",
      " [60 50 22]\n",
      " [15 20  1]]\n",
      "\n",
      "Determinant of given 3X3 matrix:\n",
      "42810\n"
     ]
    }
   ],
   "source": [
    "# importing Numpy package\n",
    "import numpy as np\n",
    "  \n",
    "# creating a 3X3 Numpy matrix\n",
    "n_array = np.array([[19, 56, 78], [60, 50, 22], [15, 20, 1]])\n",
    "  \n",
    "# Displaying the Matrix\n",
    "print(\"Numpy Matrix is:\")\n",
    "print(n_array)\n",
    "  \n",
    "# calculating the determinant of matrix\n",
    "det = np.linalg.det(n_array)\n",
    "  \n",
    "print(\"\\nDeterminant of given 3X3 matrix:\")\n",
    "print(int(det))"
   ]
  },
  {
   "cell_type": "code",
   "execution_count": 2,
   "id": "d3dd9164-cf39-4507-bc33-8cbdbae268e4",
   "metadata": {},
   "outputs": [
    {
     "name": "stdout",
     "output_type": "stream",
     "text": [
      "Numpy Matrix is:\n",
      "[[20 10]\n",
      " [ 4 20]]\n",
      "\n",
      "Determinant of given 2X2 matrix:\n",
      "360\n"
     ]
    }
   ],
   "source": [
    "# importing Numpy package\n",
    "import numpy as np\n",
    "  \n",
    "# creating a 2X2 Numpy matrix\n",
    "n_array = np.array([[20, 10], [4, 20]])\n",
    "  \n",
    "# Displaying the Matrix\n",
    "print(\"Numpy Matrix is:\")\n",
    "print(n_array)\n",
    "  \n",
    "# calculating the determinant of matrix\n",
    "det = np.linalg.det(n_array)\n",
    "  \n",
    "print(\"\\nDeterminant of given 2X2 matrix:\")\n",
    "print(int(det))"
   ]
  },
  {
   "cell_type": "code",
   "execution_count": null,
   "id": "31527e94-734e-46c0-b978-3ded882190d0",
   "metadata": {},
   "outputs": [],
   "source": []
  }
 ],
 "metadata": {
  "kernelspec": {
   "display_name": "Python 3",
   "language": "python",
   "name": "python3"
  },
  "language_info": {
   "codemirror_mode": {
    "name": "ipython",
    "version": 3
   },
   "file_extension": ".py",
   "mimetype": "text/x-python",
   "name": "python",
   "nbconvert_exporter": "python",
   "pygments_lexer": "ipython3",
   "version": "3.8.8"
  }
 },
 "nbformat": 4,
 "nbformat_minor": 5
}
