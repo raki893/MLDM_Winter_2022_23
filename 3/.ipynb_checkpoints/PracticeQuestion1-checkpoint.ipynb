{
 "cells": [
  {
   "cell_type": "code",
   "execution_count": 3,
   "id": "74668a67-ff3d-4e9c-ba47-5bee0036c858",
   "metadata": {},
   "outputs": [],
   "source": [
    "import pandas as pd\n",
    "import numpy as np\n",
    "\n",
    "# Create data frames from given table\n",
    "table_1 = pd.DataFrame({\n",
    "    'Raw Value': [56, 100, 23, 480, 32]\n",
    "})\n",
    "\n",
    "table_2 = pd.DataFrame({\n",
    "    'Raw Value': [300, 10, 234]\n",
    "})"
   ]
  },
  {
   "cell_type": "code",
   "execution_count": 4,
   "id": "a15d4be4",
   "metadata": {},
   "outputs": [
    {
     "name": "stdout",
     "output_type": "stream",
     "text": [
      "   Raw Value  Standardized Value\n",
      "0         56           -0.475227\n",
      "1        100           -0.220848\n",
      "2         23           -0.666012\n",
      "3        480            1.976067\n",
      "4         32           -0.613980\n"
     ]
    }
   ],
   "source": [
    "# Standardize the raw values for table_1\n",
    "table_1_z_new = (table_1 - table_1['Raw Value'].mean()) / table_1['Raw Value'].std(ddof=0)\n",
    "table_1.insert(1, \"Standardized Value\", table_1_z_new.loc[:, \"Raw Value\"], True)\n",
    "\n",
    "print(table_1)"
   ]
  },
  {
   "cell_type": "code",
   "execution_count": 5,
   "id": "75872a42",
   "metadata": {},
   "outputs": [
    {
     "name": "stdout",
     "output_type": "stream",
     "text": [
      "   Raw Value  Standardized Value\n",
      "0        300            0.935423\n",
      "1         10           -0.741170\n",
      "2        234            0.553854\n"
     ]
    }
   ],
   "source": [
    "# Standardize the raw values for table_2\n",
    "table_2_z_new = (table_2 - table_1['Raw Value'].mean()) / table_1['Raw Value'].std(ddof=0)\n",
    "table_2.insert(1, \"Standardized Value\", table_2_z_new.loc[:, \"Raw Value\"], True)\n",
    "\n",
    "print(table_2)"
   ]
  }
 ],
 "metadata": {
  "kernelspec": {
   "display_name": "Python 3",
   "language": "python",
   "name": "python3"
  },
  "language_info": {
   "codemirror_mode": {
    "name": "ipython",
    "version": 3
   },
   "file_extension": ".py",
   "mimetype": "text/x-python",
   "name": "python",
   "nbconvert_exporter": "python",
   "pygments_lexer": "ipython3",
   "version": "3.8.8"
  }
 },
 "nbformat": 4,
 "nbformat_minor": 5
}
