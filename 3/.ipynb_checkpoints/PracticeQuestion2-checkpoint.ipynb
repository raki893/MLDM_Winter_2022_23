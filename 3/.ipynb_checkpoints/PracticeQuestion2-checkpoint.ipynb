{
 "cells": [
  {
   "cell_type": "markdown",
   "id": "d64a1cbb-49e1-4a74-8ef9-a350273b1ed3",
   "metadata": {},
   "source": [
    "Calculate the Covariance and Pearson correlation coefficient for the data given in the table below."
   ]
  },
  {
   "cell_type": "code",
   "execution_count": 2,
   "id": "7476d2bb",
   "metadata": {},
   "outputs": [
    {
     "data": {
      "text/html": [
       "<div>\n",
       "<style scoped>\n",
       "    .dataframe tbody tr th:only-of-type {\n",
       "        vertical-align: middle;\n",
       "    }\n",
       "\n",
       "    .dataframe tbody tr th {\n",
       "        vertical-align: top;\n",
       "    }\n",
       "\n",
       "    .dataframe thead th {\n",
       "        text-align: right;\n",
       "    }\n",
       "</style>\n",
       "<table border=\"1\" class=\"dataframe\">\n",
       "  <thead>\n",
       "    <tr style=\"text-align: right;\">\n",
       "      <th></th>\n",
       "      <th>Height(H)</th>\n",
       "      <th>Weight(W)</th>\n",
       "      <th>Age(A)</th>\n",
       "    </tr>\n",
       "  </thead>\n",
       "  <tbody>\n",
       "    <tr>\n",
       "      <th>0</th>\n",
       "      <td>5.40</td>\n",
       "      <td>52.0</td>\n",
       "      <td>21</td>\n",
       "    </tr>\n",
       "    <tr>\n",
       "      <th>1</th>\n",
       "      <td>5.60</td>\n",
       "      <td>58.5</td>\n",
       "      <td>26</td>\n",
       "    </tr>\n",
       "    <tr>\n",
       "      <th>2</th>\n",
       "      <td>4.80</td>\n",
       "      <td>42.6</td>\n",
       "      <td>23</td>\n",
       "    </tr>\n",
       "    <tr>\n",
       "      <th>3</th>\n",
       "      <td>5.11</td>\n",
       "      <td>60.0</td>\n",
       "      <td>29</td>\n",
       "    </tr>\n",
       "  </tbody>\n",
       "</table>\n",
       "</div>"
      ],
      "text/plain": [
       "   Height(H)  Weight(W)  Age(A)\n",
       "0       5.40       52.0      21\n",
       "1       5.60       58.5      26\n",
       "2       4.80       42.6      23\n",
       "3       5.11       60.0      29"
      ]
     },
     "execution_count": 2,
     "metadata": {},
     "output_type": "execute_result"
    }
   ],
   "source": [
    "import pandas as pd\n",
    "import numpy as np\n",
    "\n",
    "from numpy import mean\n",
    "from numpy import std\n",
    "from scipy.stats import pearsonr\n",
    "\n",
    "df = pd.DataFrame({\n",
    "    'Height(H)': [5.4, 5.6, 4.8, 5.11],\n",
    "    'Weight(W)': [52, 58.5, 42.6, 60],\n",
    "    'Age(A)': [21, 26, 23, 29]\n",
    "})\n",
    "\n",
    "df"
   ]
  },
  {
   "cell_type": "code",
   "execution_count": 3,
   "id": "0bd55e40-ed21-482f-9c05-b5229a31220b",
   "metadata": {},
   "outputs": [],
   "source": [
    "data_H = df['Height(H)']\n",
    "data_W = df['Weight(W)']\n",
    "data_A = df['Age(A)']"
   ]
  },
  {
   "cell_type": "code",
   "execution_count": 4,
   "id": "7a0b640d",
   "metadata": {},
   "outputs": [
    {
     "name": "stdout",
     "output_type": "stream",
     "text": [
      "Covariance(HW):  1.83325\n",
      "Covariance(WA):  19.525\n",
      "Covariance(AH):  0.022499999999999964\n"
     ]
    }
   ],
   "source": [
    "print(\"Covariance(HW): \", np.cov(data_H, data_W)[0][1])\n",
    "print(\"Covariance(WA): \", np.cov(data_W, data_A)[0][1])\n",
    "print(\"Covariance(AH): \", np.cov(data_A, data_H)[0][1])"
   ]
  },
  {
   "cell_type": "code",
   "execution_count": 5,
   "id": "209ef53d",
   "metadata": {},
   "outputs": [
    {
     "name": "stdout",
     "output_type": "stream",
     "text": [
      "correlation coefficient:(HW)  0.6636648945552827\n",
      "correlation coefficient(WA):  0.7044993062423051\n",
      "correlation coefficient(AH):  0.01842824825453296\n"
     ]
    }
   ],
   "source": [
    "print(\"correlation coefficient:(HW) \", pearsonr(data_H, data_W)[0])\n",
    "print(\"correlation coefficient(WA): \", pearsonr(data_W, data_A)[0])\n",
    "print(\"correlation coefficient(AH): \", pearsonr(data_A, data_H)[0])"
   ]
  }
 ],
 "metadata": {
  "kernelspec": {
   "display_name": "Python 3",
   "language": "python",
   "name": "python3"
  },
  "language_info": {
   "codemirror_mode": {
    "name": "ipython",
    "version": 3
   },
   "file_extension": ".py",
   "mimetype": "text/x-python",
   "name": "python",
   "nbconvert_exporter": "python",
   "pygments_lexer": "ipython3",
   "version": "3.8.8"
  }
 },
 "nbformat": 4,
 "nbformat_minor": 5
}
