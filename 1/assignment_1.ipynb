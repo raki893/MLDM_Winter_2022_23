{
 "cells": [
  {
   "cell_type": "code",
   "execution_count": 11,
   "id": "5c2f8835",
   "metadata": {},
   "outputs": [
    {
     "name": "stdout",
     "output_type": "stream",
     "text": [
      "26.666666666666668\n"
     ]
    }
   ],
   "source": [
    "# Mean #\n",
    "\n",
    "import numpy as np\n",
    "\n",
    "calc = np.mean([81,6,30,48,48,3,31,4,26,28,14,1])\n",
    "\n",
    "print(calc)"
   ]
  },
  {
   "cell_type": "code",
   "execution_count": 12,
   "id": "d11b012f",
   "metadata": {},
   "outputs": [
    {
     "name": "stdout",
     "output_type": "stream",
     "text": [
      "27.0\n"
     ]
    }
   ],
   "source": [
    "# Median #\n",
    "\n",
    "import numpy as np\n",
    "\n",
    "calc = np.median([23,1,33,23,48,53,30,24,39,1])\n",
    "\n",
    "print(calc)"
   ]
  },
  {
   "cell_type": "code",
   "execution_count": 14,
   "id": "0b87d018",
   "metadata": {},
   "outputs": [
    {
     "name": "stdout",
     "output_type": "stream",
     "text": [
      "ModeResult(mode=array([137]), count=array([2]))\n"
     ]
    }
   ],
   "source": [
    "# Mode #\n",
    "\n",
    "from scipy import stats\n",
    "\n",
    "calc = stats.mode([120,123,130,48,248,137,94,126,98,64,137])\n",
    "\n",
    "print(calc)"
   ]
  },
  {
   "cell_type": "code",
   "execution_count": 1,
   "id": "e9de3306",
   "metadata": {},
   "outputs": [
    {
     "name": "stdout",
     "output_type": "stream",
     "text": [
      "582.2222222222222\n"
     ]
    }
   ],
   "source": [
    "# Variance #\n",
    "\n",
    "import numpy as np\n",
    "\n",
    "calc = np.var([12,13,30,48,47,73,31,94,26,18,24,20])\n",
    "\n",
    "print(calc)"
   ]
  },
  {
   "cell_type": "code",
   "execution_count": 2,
   "id": "9f62b789",
   "metadata": {},
   "outputs": [
    {
     "name": "stdout",
     "output_type": "stream",
     "text": [
      "8.038812101299543\n"
     ]
    }
   ],
   "source": [
    "# Standard deviation #\n",
    "\n",
    "import numpy as np\n",
    "\n",
    "calc = np.std([22,31,21,4,17,17,31,34,21,12.5,24.7,21])\n",
    "\n",
    "print(calc)"
   ]
  },
  {
   "cell_type": "code",
   "execution_count": 26,
   "id": "6793c10f",
   "metadata": {},
   "outputs": [
    {
     "name": "stdout",
     "output_type": "stream",
     "text": [
      "max(f(x)) = 1.0\n",
      "argmax(f(x)) = 4\n",
      "min(f(x)) = -1.0\n",
      "argmin(f(x)) = 0\n"
     ]
    }
   ],
   "source": [
    "# Argmax - Minmax #\n",
    "\n",
    "import numpy as np\n",
    "\n",
    "\n",
    "x = np.array([-1,-0.5,0,0.5,1])\n",
    "print(\"max(f(x)) =\",np.max(x))\n",
    "print(\"argmax(f(x)) =\",np.argmax(x))\n",
    "\n",
    "print(\"min(f(x)) =\",np.min(x))\n",
    "print(\"argmin(f(x)) =\",np.argmin(x))\n",
    "\n",
    "\n"
   ]
  },
  {
   "cell_type": "code",
   "execution_count": null,
   "id": "8289d10c",
   "metadata": {},
   "outputs": [],
   "source": []
  }
 ],
 "metadata": {
  "kernelspec": {
   "display_name": "Python 3",
   "language": "python",
   "name": "python3"
  },
  "language_info": {
   "codemirror_mode": {
    "name": "ipython",
    "version": 3
   },
   "file_extension": ".py",
   "mimetype": "text/x-python",
   "name": "python",
   "nbconvert_exporter": "python",
   "pygments_lexer": "ipython3",
   "version": "3.8.8"
  }
 },
 "nbformat": 4,
 "nbformat_minor": 5
}
